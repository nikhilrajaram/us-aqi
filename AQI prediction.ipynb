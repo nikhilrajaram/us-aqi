{
 "cells": [
  {
   "cell_type": "code",
   "execution_count": 1,
   "metadata": {},
   "outputs": [],
   "source": [
    "%load_ext autoreload\n",
    "%autoreload 2"
   ]
  },
  {
   "cell_type": "code",
   "execution_count": 2,
   "metadata": {
    "scrolled": false
   },
   "outputs": [],
   "source": [
    "import numpy as np\n",
    "import pandas as pd\n",
    "import tensorflow as tf\n",
    "from dkeras import dKeras\n",
    "import datetime\n",
    "import cProfile\n",
    "import matplotlib.pyplot as plt\n",
    "from AQIDataset import AQIDataset, AQIDataGenerator"
   ]
  },
  {
   "cell_type": "code",
   "execution_count": 3,
   "metadata": {},
   "outputs": [],
   "source": [
    "data = pd.read_csv('data/aqi_daily_1980_to_2021.csv')\n",
    "data['Date'] = data['Date'].apply(lambda x: datetime.datetime.strptime(x, '%Y-%m-%d'))\n",
    "data.loc[data['AQI']>500, 'AQI'] = 500  # truncate AQI values at 500"
   ]
  },
  {
   "cell_type": "code",
   "execution_count": 4,
   "metadata": {},
   "outputs": [
    {
     "data": {
      "text/plain": [
       "<AxesSubplot:>"
      ]
     },
     "execution_count": 4,
     "metadata": {},
     "output_type": "execute_result"
    },
    {
     "data": {
      "image/png": "[encoded data removed]",
      "text/plain": [
       "<Figure size 432x288 with 1 Axes>"
      ]
     },
     "metadata": {
      "needs_background": "light"
     },
     "output_type": "display_data"
    }
   ],
   "source": [
    "data['AQI'].hist(bins=100)"
   ]
  },
  {
   "cell_type": "code",
   "execution_count": 5,
   "metadata": {},
   "outputs": [
    {
     "name": "stderr",
     "output_type": "stream",
     "text": [
      "/Users/Nikhil/Developer/us-aqi/venv/lib/python3.7/site-packages/pandas/core/indexing.py:1773: SettingWithCopyWarning: \n",
      "A value is trying to be set on a copy of a slice from a DataFrame.\n",
      "Try using .loc[row_indexer,col_indexer] = value instead\n",
      "\n",
      "See the caveats in the documentation: https://pandas.pydata.org/pandas-docs/stable/user_guide/indexing.html#returning-a-view-versus-a-copy\n",
      "  self._setitem_single_column(ilocs[0], value, pi)\n"
     ]
    }
   ],
   "source": [
    "dataset = AQIDataset(\n",
    "    df=data, \n",
    "    batch_size=32, \n",
    "    input_size=(28,), \n",
    "    output_size=(14,), \n",
    "    train_test_split=0.8, \n",
    "    feature_scaling='01',\n",
    ")"
   ]
  },
  {
   "cell_type": "code",
   "execution_count": 6,
   "metadata": {},
   "outputs": [],
   "source": [
    "trg = AQIDataGenerator(dataset, dataset.locations_train)\n",
    "teg = AQIDataGenerator(dataset, dataset.locations_test)"
   ]
  },
  {
   "cell_type": "code",
   "execution_count": 7,
   "metadata": {},
   "outputs": [],
   "source": [
    "n_hidden = 100"
   ]
  },
  {
   "cell_type": "code",
   "execution_count": 8,
   "metadata": {},
   "outputs": [
    {
     "name": "stdout",
     "output_type": "stream",
     "text": [
      "KerasTensor(type_spec=TensorSpec(shape=(32, 28, 1), dtype=tf.float32, name='input_1'), name='input_1', description=\"created by layer 'input_1'\")\n",
      "KerasTensor(type_spec=TensorSpec(shape=(None, 14), dtype=tf.float32, name='input_2'), name='input_2', description=\"created by layer 'input_2'\")\n"
     ]
    }
   ],
   "source": [
    "input_train = tf.keras.Input(shape=(dataset.input_size[0], 1), batch_size=dataset.batch_size)\n",
    "output_train = tf.keras.Input(shape=dataset.output_size)\n",
    "print(input_train)\n",
    "print(output_train)"
   ]
  },
  {
   "cell_type": "code",
   "execution_count": 9,
   "metadata": {},
   "outputs": [
    {
     "name": "stdout",
     "output_type": "stream",
     "text": [
      "KerasTensor(type_spec=TensorSpec(shape=(32, 28, 100), dtype=tf.float32, name=None), name='lstm/transpose_1:0', description=\"created by layer 'lstm'\")\n",
      "KerasTensor(type_spec=TensorSpec(shape=(32, 100), dtype=tf.float32, name=None), name='lstm/while:4', description=\"created by layer 'lstm'\")\n",
      "KerasTensor(type_spec=TensorSpec(shape=(32, 100), dtype=tf.float32, name=None), name='lstm/while:5', description=\"created by layer 'lstm'\")\n"
     ]
    }
   ],
   "source": [
    "encoder = tf.keras.layers.LSTM(\n",
    "    n_hidden, \n",
    "    activation='elu', \n",
    "    dropout=0.2, \n",
    "    recurrent_dropout=0.2, \n",
    "    return_sequences=True, \n",
    "    return_state=True,\n",
    "    kernel_regularizer=tf.keras.regularizers.l1_l2(l1=1e-5, l2=1e-4),\n",
    "    bias_regularizer=tf.keras.regularizers.l2(1e-4),\n",
    "    activity_regularizer=tf.keras.regularizers.l2(1e-5)\n",
    ")\n",
    "encoder_stack_h, encoder_last_h, encoder_last_c = encoder(input_train)\n",
    "print(encoder_stack_h)\n",
    "print(encoder_last_h)\n",
    "print(encoder_last_c)"
   ]
  },
  {
   "cell_type": "code",
   "execution_count": 10,
   "metadata": {},
   "outputs": [
    {
     "name": "stdout",
     "output_type": "stream",
     "text": [
      "KerasTensor(type_spec=TensorSpec(shape=(32, 100), dtype=tf.float32, name=None), name='batch_normalization/batchnorm/add_1:0', description=\"created by layer 'batch_normalization'\")\n",
      "KerasTensor(type_spec=TensorSpec(shape=(32, 100), dtype=tf.float32, name=None), name='batch_normalization_1/batchnorm/add_1:0', description=\"created by layer 'batch_normalization_1'\")\n"
     ]
    }
   ],
   "source": [
    "encoder_last_h = tf.keras.layers.BatchNormalization(momentum=0.6)(encoder_last_h)\n",
    "encoder_last_c = tf.keras.layers.BatchNormalization(momentum=0.6)(encoder_last_c)\n",
    "print(encoder_last_h)\n",
    "print(encoder_last_c)"
   ]
  },
  {
   "cell_type": "code",
   "execution_count": 11,
   "metadata": {},
   "outputs": [
    {
     "name": "stdout",
     "output_type": "stream",
     "text": [
      "KerasTensor(type_spec=TensorSpec(shape=(32, 14, 100), dtype=tf.float32, name=None), name='lstm_1/transpose_1:0', description=\"created by layer 'lstm_1'\")\n"
     ]
    }
   ],
   "source": [
    "decoder_input = tf.keras.layers.RepeatVector(output_train.shape[1])(encoder_last_h)\n",
    "decoder_stack_h = tf.keras.layers.LSTM(\n",
    "    n_hidden, \n",
    "    activation='elu', \n",
    "    dropout=0.2, \n",
    "    recurrent_dropout=0.2,\n",
    "    return_state=False, \n",
    "    return_sequences=True\n",
    ")(decoder_input, initial_state=[encoder_last_h, encoder_last_c])\n",
    "print(decoder_stack_h)"
   ]
  },
  {
   "cell_type": "code",
   "execution_count": 12,
   "metadata": {},
   "outputs": [
    {
     "name": "stdout",
     "output_type": "stream",
     "text": [
      "KerasTensor(type_spec=TensorSpec(shape=(32, 14, 28), dtype=tf.float32, name=None), name='activation/Softmax:0', description=\"created by layer 'activation'\")\n"
     ]
    }
   ],
   "source": [
    "attention = tf.keras.layers.dot([decoder_stack_h, encoder_stack_h], axes=[2, 2])\n",
    "attention = tf.keras.layers.Activation('softmax')(attention)\n",
    "print(attention)"
   ]
  },
  {
   "cell_type": "code",
   "execution_count": 13,
   "metadata": {},
   "outputs": [
    {
     "name": "stdout",
     "output_type": "stream",
     "text": [
      "KerasTensor(type_spec=TensorSpec(shape=(32, 14, 100), dtype=tf.float32, name=None), name='batch_normalization_2/batchnorm/add_1:0', description=\"created by layer 'batch_normalization_2'\")\n"
     ]
    }
   ],
   "source": [
    "context = tf.keras.layers.dot([attention, encoder_stack_h], axes=[2, 1])\n",
    "context = tf.keras.layers.BatchNormalization(momentum=0.6)(context)\n",
    "print(context)"
   ]
  },
  {
   "cell_type": "code",
   "execution_count": 14,
   "metadata": {},
   "outputs": [
    {
     "name": "stdout",
     "output_type": "stream",
     "text": [
      "KerasTensor(type_spec=TensorSpec(shape=(32, 14, 200), dtype=tf.float32, name=None), name='concatenate/concat:0', description=\"created by layer 'concatenate'\")\n"
     ]
    }
   ],
   "source": [
    "decoder_combined_context = tf.keras.layers.concatenate([context, decoder_stack_h])\n",
    "print(decoder_combined_context)"
   ]
  },
  {
   "cell_type": "code",
   "execution_count": 15,
   "metadata": {},
   "outputs": [
    {
     "name": "stdout",
     "output_type": "stream",
     "text": [
      "KerasTensor(type_spec=TensorSpec(shape=(32, 14, 1), dtype=tf.float32, name=None), name='time_distributed/Reshape_1:0', description=\"created by layer 'time_distributed'\")\n"
     ]
    }
   ],
   "source": [
    "output = tf.keras.layers.TimeDistributed(tf.keras.layers.Dense(1))(decoder_combined_context)\n",
    "print(output)"
   ]
  },
  {
   "cell_type": "code",
   "execution_count": 16,
   "metadata": {
    "scrolled": false
   },
   "outputs": [
    {
     "name": "stdout",
     "output_type": "stream",
     "text": [
      "Model: \"model\"\n",
      "__________________________________________________________________________________________________\n",
      "Layer (type)                    Output Shape         Param #     Connected to                     \n",
      "==================================================================================================\n",
      "input_1 (InputLayer)            [(32, 28, 1)]        0                                            \n",
      "__________________________________________________________________________________________________\n",
      "lstm (LSTM)                     [(32, 28, 100), (32, 40800       input_1[0][0]                    \n",
      "__________________________________________________________________________________________________\n",
      "batch_normalization (BatchNorma (32, 100)            400         lstm[0][1]                       \n",
      "__________________________________________________________________________________________________\n",
      "repeat_vector (RepeatVector)    (32, 14, 100)        0           batch_normalization[0][0]        \n",
      "__________________________________________________________________________________________________\n",
      "batch_normalization_1 (BatchNor (32, 100)            400         lstm[0][2]                       \n",
      "__________________________________________________________________________________________________\n",
      "lstm_1 (LSTM)                   (32, 14, 100)        80400       repeat_vector[0][0]              \n",
      "                                                                 batch_normalization[0][0]        \n",
      "                                                                 batch_normalization_1[0][0]      \n",
      "__________________________________________________________________________________________________\n",
      "dot (Dot)                       (32, 14, 28)         0           lstm_1[0][0]                     \n",
      "                                                                 lstm[0][0]                       \n",
      "__________________________________________________________________________________________________\n",
      "activation (Activation)         (32, 14, 28)         0           dot[0][0]                        \n",
      "__________________________________________________________________________________________________\n",
      "dot_1 (Dot)                     (32, 14, 100)        0           activation[0][0]                 \n",
      "                                                                 lstm[0][0]                       \n",
      "__________________________________________________________________________________________________\n",
      "batch_normalization_2 (BatchNor (32, 14, 100)        400         dot_1[0][0]                      \n",
      "__________________________________________________________________________________________________\n",
      "concatenate (Concatenate)       (32, 14, 200)        0           batch_normalization_2[0][0]      \n",
      "                                                                 lstm_1[0][0]                     \n",
      "__________________________________________________________________________________________________\n",
      "time_distributed (TimeDistribut (32, 14, 1)          201         concatenate[0][0]                \n",
      "==================================================================================================\n",
      "Total params: 122,601\n",
      "Trainable params: 122,001\n",
      "Non-trainable params: 600\n",
      "__________________________________________________________________________________________________\n"
     ]
    }
   ],
   "source": [
    "model = tf.keras.Model(inputs=input_train, outputs=output)\n",
    "opt = tf.keras.optimizers.Adam(learning_rate=0.001, clipvalue=0.5)\n",
    "model.compile(loss='mean_squared_error', optimizer=opt, metrics=['mae'])\n",
    "model.summary()"
   ]
  },
  {
   "cell_type": "code",
   "execution_count": null,
   "metadata": {},
   "outputs": [],
   "source": [
    "epochs = 100\n",
    "es = tf.keras.callbacks.EarlyStopping(monitor='val_loss', mode='min', patience=50)\n",
    "history = model.fit(trg, validation_data=teg, epochs=epochs, verbose=1, callbacks=[es], batch_size=dataset.batch_size)\n",
    "train_mae = history.history['mae']\n",
    "valid_mae = history.history['val_mae']"
   ]
  },
  {
   "cell_type": "code",
   "execution_count": null,
   "metadata": {},
   "outputs": [],
   "source": [
    "model.save('m')"
   ]
  },
  {
   "cell_type": "code",
   "execution_count": null,
   "metadata": {},
   "outputs": [],
   "source": []
  }
 ],
 "metadata": {
  "kernelspec": {
   "display_name": "Python 3 (ipykernel)",
   "language": "python",
   "name": "python3"
  },
  "language_info": {
   "codemirror_mode": {
    "name": "ipython",
    "version": 3
   },
   "file_extension": ".py",
   "mimetype": "text/x-python",
   "name": "python",
   "nbconvert_exporter": "python",
   "pygments_lexer": "ipython3",
   "version": "3.7.7"
  }
 },
 "nbformat": 4,
 "nbformat_minor": 4
}
