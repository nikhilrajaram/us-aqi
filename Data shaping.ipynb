{
 "cells": [
  {
   "cell_type": "markdown",
   "id": "1d6976fc",
   "metadata": {},
   "source": [
    "Again, we have 1048 time series $\\{A_L : L \\in \\mathcal{L}\\}$\n",
    "\n",
    "For each time series, we want to shape the data from $A_L \\in \\mathbb{R}^{n_L}$ to $S_L \\in \\mathbb{R}^{n_{batches} \\times s_{batch} \\times (s_{in} + s_{out})}$\n",
    "\n",
    "Thus in each series $S_L$, we first can index into batch $B_j \\in \\mathbb{R}^{s_{batch} \\times (s_{in} + s_{out})}$\n",
    "\n",
    "Then into a sample $b_{jk} \\in \\mathbb{R}^{s_{in} + s_{out}}$\n",
    "\n",
    "Which yields $s_{in}+s_{out}$ consecutive days of AQI reading. This sample can be split into the input and output points $x=b_{jk[l:l+s_{in}-1]}$ and $y=b_{jk[l+s_{in}:l+s_{in}+s_{out}-1]}$ which will be used to inform the algorithm.\n",
    "\n",
    "The index $i$ has been reserved to first index into the location $l \\in \\mathcal{L}$. So altogether, we can get individual input and output series from a dataset $D$ as:\n",
    "\n",
    "$$\n",
    "x=D_{ijk[l:l+s_{in}-1]}\\\\\n",
    "y=D_{ijk[l+s_{in}:l+s_{in}+s_{out}-1]}\n",
    "$$\n",
    "\n",
    "Since the input to the model will be batches rather than the individual elements of the batches, the index $k$ is somewhat useless. Thus we want an index to be setup such that we can index the dataset as follows:\n",
    "\n",
    "$$\n",
    "X=D_{ij[:][l:l+s_{in}-1]}\\\\\n",
    "Y=D_{ij[:][l+s_{in}:l+s_{in}+s_{out}-1]}\n",
    "$$\n",
    "\n",
    "So for $D_i=S_L$, $D_{ij}=B_j$ (each batch) we should have an `(s_batch, s_in+s_out)` ndarray"
   ]
  },
  {
   "cell_type": "code",
   "execution_count": null,
   "id": "df7aff61",
   "metadata": {},
   "outputs": [],
   "source": []
  }
 ],
 "metadata": {
  "kernelspec": {
   "display_name": "Python 3 (ipykernel)",
   "language": "python",
   "name": "python3"
  },
  "language_info": {
   "codemirror_mode": {
    "name": "ipython",
    "version": 3
   },
   "file_extension": ".py",
   "mimetype": "text/x-python",
   "name": "python",
   "nbconvert_exporter": "python",
   "pygments_lexer": "ipython3",
   "version": "3.7.7"
  }
 },
 "nbformat": 4,
 "nbformat_minor": 5
}
