{
 "cells": [
  {
   "cell_type": "code",
   "execution_count": 1,
   "id": "8d371274",
   "metadata": {},
   "outputs": [],
   "source": [
    "%load_ext autoreload\n",
    "%autoreload 2"
   ]
  },
  {
   "cell_type": "code",
   "execution_count": 2,
   "id": "755ee3ab",
   "metadata": {},
   "outputs": [],
   "source": [
    "import numpy as np\n",
    "import pandas as pd\n",
    "import datetime\n",
    "import matplotlib.pyplot as plt"
   ]
  },
  {
   "cell_type": "code",
   "execution_count": 3,
   "id": "65d4f995",
   "metadata": {},
   "outputs": [],
   "source": [
    "data = pd.read_csv('data/aqi_daily_1980_to_2021.csv')\n",
    "data['Date'] = data['Date'].apply(lambda x: datetime.datetime.strptime(x, '%Y-%m-%d'))\n",
    "data.loc[data['AQI']>500, 'AQI'] = 500  # truncate AQI values at 500"
   ]
  },
  {
   "cell_type": "code",
   "execution_count": 4,
   "id": "1e2c5daf",
   "metadata": {},
   "outputs": [],
   "source": [
    "location_groups = data.groupby(['Latitude', 'Longitude', 'State Name', 'County Name']).groups\n",
    "locations = list(location_groups)"
   ]
  },
  {
   "cell_type": "code",
   "execution_count": 5,
   "id": "1a4b483c",
   "metadata": {},
   "outputs": [
    {
     "data": {
      "text/plain": [
       "1048"
      ]
     },
     "execution_count": 5,
     "metadata": {},
     "output_type": "execute_result"
    }
   ],
   "source": [
    "len(locations)"
   ]
  },
  {
   "cell_type": "markdown",
   "id": "1eb19317",
   "metadata": {},
   "source": [
    "### Test if there is missing data"
   ]
  },
  {
   "cell_type": "code",
   "execution_count": 6,
   "id": "14be0d00",
   "metadata": {},
   "outputs": [
    {
     "data": {
      "text/plain": [
       "True"
      ]
     },
     "execution_count": 6,
     "metadata": {},
     "output_type": "execute_result"
    }
   ],
   "source": [
    "subset = data.loc[location_groups[locations[0]], 'Date']\n",
    "np.setdiff1d(\n",
    "    pd.date_range(subset.min(), subset.max()).unique(),\n",
    "    subset.unique()\n",
    ").shape[0] > 0"
   ]
  },
  {
   "cell_type": "markdown",
   "id": "d1476635",
   "metadata": {},
   "source": [
    "## Reasoning about the distributions\n",
    "Here we have daily AQI readings (with some days missing) from 1048 locations across the US. That is, we have 1048 AQI time series with missing data conditioned on location:\n",
    "\n",
    "$$\n",
    "A_L=\\left(A_L^{(t)} : t \\in T_L\\right) \\\\\n",
    "T_L=\\{t_1, ..., t_{n_L}\\}\n",
    "$$\n",
    "\n",
    "Really the goal here is to predict future AQI agnostic of location. So the task is to approximate a function $f$ defined as:\n",
    "\n",
    "$$\n",
    "f\\left(\\left(A_L^{(t)} : t \\in \\{t_i\\}_{i=k}^{k+s_{in}-1}\\}\\right)\\right)\n",
    "    =\\left(A_L^{(t)} : t \\in \\{t_{i}\\}_{i=k+s_{in}}^{k+s_i+s_{out}-1}\\right)\n",
    "$$\n",
    "\n",
    "Where $s_i$ is the number of days of data we desire to provide as input to the function, $s_o$ is the number of days of prediction we desire to receive as output from the function, and $k$ is an arbitrary starting index.\n",
    "\n",
    "Note that $f$ is agnostic of location and our goal is to predict *general* AQI trends. So our model (our learned function $\\tilde{f}\\approx f$) need not take location in to account, and should approximate $f$ equally well regardless of location. As such we can orchestrate our train-test splitting such that we have train and test sets comprised of time series from distinct locations. That is, our train and test sets $D_{train}, D_{test}$ are constructed as follows:\n",
    "\n",
    "$$\n",
    "D_{train}=\\{A_L : L \\in \\mathcal{L}_{train}\\} \\\\\n",
    "D_{test}=\\{A_L : L \\in \\mathcal{L}_{test}\\}\n",
    "$$\n",
    "\n",
    "Where $\\mathcal{L}_{train}, \\mathcal{L}_{test}$ are comprised of distinct locations."
   ]
  },
  {
   "cell_type": "code",
   "execution_count": null,
   "id": "cd2ff7ef",
   "metadata": {},
   "outputs": [],
   "source": []
  }
 ],
 "metadata": {
  "kernelspec": {
   "display_name": "Python 3 (ipykernel)",
   "language": "python",
   "name": "python3"
  },
  "language_info": {
   "codemirror_mode": {
    "name": "ipython",
    "version": 3
   },
   "file_extension": ".py",
   "mimetype": "text/x-python",
   "name": "python",
   "nbconvert_exporter": "python",
   "pygments_lexer": "ipython3",
   "version": "3.7.7"
  }
 },
 "nbformat": 4,
 "nbformat_minor": 5
}
